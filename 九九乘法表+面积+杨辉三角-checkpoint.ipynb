{
 "cells": [
  {
   "cell_type": "code",
   "execution_count": 1,
   "metadata": {},
   "outputs": [
    {
     "name": "stdout",
     "output_type": "stream",
     "text": [
      "1x1=1\t\n",
      "1x2=2\t2x2=4\t\n",
      "1x3=3\t2x3=6\t3x3=9\t\n",
      "1x4=4\t2x4=8\t3x4=12\t4x4=16\t\n",
      "1x5=5\t2x5=10\t3x5=15\t4x5=20\t5x5=25\t\n",
      "1x6=6\t2x6=12\t3x6=18\t4x6=24\t5x6=30\t6x6=36\t\n",
      "1x7=7\t2x7=14\t3x7=21\t4x7=28\t5x7=35\t6x7=42\t7x7=49\t\n",
      "1x8=8\t2x8=16\t3x8=24\t4x8=32\t5x8=40\t6x8=48\t7x8=56\t8x8=64\t\n",
      "1x9=9\t2x9=18\t3x9=27\t4x9=36\t5x9=45\t6x9=54\t7x9=63\t8x9=72\t9x9=81\t\n"
     ]
    }
   ],
   "source": [
    "# _*_ coding:UTF_8 _*_\n",
    "# Filename : test .py\n",
    "for i in range(1,10):\n",
    "    for j in range(1,i+1):\n",
    "        print('{}x{}={}\\t'.format(j,i,i*j),end='')\n",
    "    print()"
   ]
  },
  {
   "cell_type": "code",
   "execution_count": 2,
   "metadata": {},
   "outputs": [
    {
     "name": "stdout",
     "output_type": "stream",
     "text": [
      "输入三角形第一边：3\n",
      "输入三角形第二边：4\n",
      "输入三角形第三边：5\n",
      "三角形面积为 6.00\n"
     ]
    }
   ],
   "source": [
    "# _*_ coding : UIF -8 -*_\n",
    "# Filename : test.py\n",
    "a=float(input('输入三角形第一边：'))\n",
    "b=float(input('输入三角形第二边：'))\n",
    "c=float(input('输入三角形第三边：'))\n",
    "s=(a+b+c)/2\n",
    "area=(s*(s-a)*(s-b)*(s-c))**0.5\n",
    "print('三角形面积为 %0.2f' %area)"
   ]
  },
  {
   "cell_type": "code",
   "execution_count": 3,
   "metadata": {},
   "outputs": [
    {
     "name": "stdout",
     "output_type": "stream",
     "text": [
      "输入杨辉三角的行数11\n",
      "1  \n",
      "1  1  \n",
      "1  2  1  \n",
      "1  3  3  1  \n",
      "1  4  6  4  1  \n",
      "1  5  10  10  5  1  \n",
      "1  6  15  20  15  6  1  \n",
      "1  7  21  35  35  21  7  1  \n",
      "1  8  28  56  70  56  28  8  1  \n",
      "1  9  36  84  126  126  84  36  9  1  \n",
      "1  10  45  120  210  252  210  120  45  10  1  \n"
     ]
    }
   ],
   "source": [
    "r=int(input('输入杨辉三角的行数'))\n",
    "x=[0]*r\n",
    "for i in range(0,r):\n",
    "    for j in range(0,i+1):\n",
    "        if j==0:\n",
    "            x[0]=x[i]=1\n",
    "        elif j>0 and j<i:\n",
    "            x[i-j]=x[i-j]+x[i-j-1]\n",
    "    k=0\n",
    "    x.append(0)\n",
    "    while x[k] !=0 and k<r:\n",
    "        print(x[k],end='  ')\n",
    "        k=k+1\n",
    "    print(\"\")\n",
    "            "
   ]
  }
 ],
 "metadata": {
  "kernelspec": {
   "display_name": "Python 3",
   "language": "python",
   "name": "python3"
  },
  "language_info": {
   "codemirror_mode": {
    "name": "ipython",
    "version": 3
   },
   "file_extension": ".py",
   "mimetype": "text/x-python",
   "name": "python",
   "nbconvert_exporter": "python",
   "pygments_lexer": "ipython3",
   "version": "3.7.0"
  }
 },
 "nbformat": 4,
 "nbformat_minor": 2
}
